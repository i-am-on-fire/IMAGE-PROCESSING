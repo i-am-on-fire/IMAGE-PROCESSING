{
 "cells": [
  {
   "cell_type": "code",
   "execution_count": 2,
   "id": "48769a18",
   "metadata": {},
   "outputs": [],
   "source": [
    "import pandas as pd\n",
    "import numpy as np\n",
    "import matplotlib.pyplot as plt\n",
    "import seaborn as sns\n",
    "import plotly.express as px\n",
    "\n",
    "\n",
    "import tensorflow as tf\n",
    "from tensorflow.keras.preprocessing.image import ImageDataGenerator\n",
    "from tensorflow.keras.utils import to_categorical\n",
    "\n",
    "from sklearn.metrics import confusion_matrix , classification_report \n",
    "from sklearn.preprocessing import LabelBinarizer\n",
    "from sklearn.metrics import roc_curve, auc, roc_auc_score\n",
    "\n",
    "from IPython.display import clear_output\n",
    "import warnings\n",
    "warnings.filterwarnings('ignore')\n",
    "\n",
    "from keras.models import model_from_json\n",
    "import cv2, os\n",
    "from keras.layers import Flatten\n",
    "from keras.utils.vis_utils import plot_model\n",
    "from tensorflow.keras.callbacks import ModelCheckpoint"
   ]
  },
  {
   "cell_type": "code",
   "execution_count": 3,
   "id": "0c14ace4",
   "metadata": {},
   "outputs": [],
   "source": [
    "train_dir = r\"dataset/ImageEmotion (85-15)/train\"\n",
    "test_dir = r\"dataset/ImageEmotion (85-15)/test\"\n",
    "\n",
    "SEED = 12\n",
    "IMG_HEIGHT = 224\n",
    "IMG_WIDTH = 224\n",
    "BATCH_SIZE = 128\n",
    "momentum = 0.9\n",
    "EPOCHS = 500\n",
    "#FINE_TUNING_EPOCHS = 30\n",
    "LR = 0.001\n",
    "NUM_CLASSES = 8\n",
    "EARLY_STOPPING_CRITERIA=3\n",
    "CLASS_LABELS  = ['Amusement', 'Anger', 'Awe', 'Contentment', 'Disgust', 'Excitement', 'Fear', 'Sadness']\n",
    "CLASS_LABELS_EMOJIS = [\"🥳\", \"😡\", \"😯\", \"😌\", \"🤢\" ,\"🤩\", \"😱\" , \"😔\" ]"
   ]
  },
  {
   "cell_type": "code",
   "execution_count": null,
   "id": "88ab2bea",
   "metadata": {},
   "outputs": [],
   "source": [
    "train_datagen = ImageDataGenerator(horizontal_flip=True,\n",
    "                                   width_shift_range= 0.1,\n",
    "                                   height_shift_range= 0.05,\n",
    "                                  rescale= 1./255,\n",
    "                                  preprocess_function= preprocess_fn)\n",
    "\n",
    "test_datagen = ImageDataGenerator(rescale= 1./255,\n",
    "                                 preprocess_function= preprocess_fn)\n",
    "\n",
    "train_generator = train_datagen.flow_from_directory(directory = train_dir,\n",
    "                                                    target_size = (IMG_HEIGHT ,IMG_WIDTH),\n",
    "                                                    batch_size = BATCH_SIZE,\n",
    "                                                    shuffle  = True , \n",
    "                                                    color_mode = \"rgb\",\n",
    "                                                    class_mode = \"categorical\",\n",
    "                                                    subset = \"training\",\n",
    "                                                    seed = 12\n",
    "                                                   )\n",
    "\n",
    "test_generator = test_datagen.flow_from_directory(directory = test_dir,\n",
    "                                                   target_size = (IMG_HEIGHT ,IMG_WIDTH),\n",
    "                                                    batch_size = BATCH_SIZE,\n",
    "                                                    shuffle  = False , \n",
    "                                                    color_mode = \"rgb\",\n",
    "                                                    class_mode = \"categorical\",\n",
    "                                                    seed = 12\n",
    "                                                  )"
   ]
  },
  {
   "cell_type": "code",
   "execution_count": 8,
   "id": "88c44647",
   "metadata": {},
   "outputs": [
    {
     "name": "stdout",
     "output_type": "stream",
     "text": [
      "Loaded train low features\n",
      "Loaded test low features\n",
      "Loaded train labels\n",
      "Loaded test labels\n"
     ]
    }
   ],
   "source": [
    "#loading features required\n",
    "train_CNNfeatures = np.load(r'FeatureFiles/train_MobileNetfeatures_(7,7,1024).npy')\n",
    "print('Loaded train CNN features')\n",
    "test_CNNfeatures = np.load(r'FeatureFiles/test_MobileNetfeatures_(7,7,1024).npy')\n",
    "print('Loaded test CNN features')\n",
    "train_lowfeatures = np.load(r'FeatureFiles/train_lowfeatures.npy')\n",
    "print('Loaded train low features')\n",
    "test_lowfeatures = np.load(r'FeatureFiles/test_lowfeatures.npy')\n",
    "print('Loaded test low features')\n",
    "train_mainobject = np.load(r'FeatureFiles/train_mainobject_data.npy')\n",
    "print('Loaded train main object data')\n",
    "test_mainobject = np.load(r'FeatureFiles/test_mainobject_data.npy')\n",
    "print('Loaded test main object data')\n",
    "train_semantic = np.load(r'FeatureFiles/train_semanticfeatures.npy')\n",
    "print('Loaded train semantic features')\n",
    "test_semantic = np.load(r'FeatureFiles/test_semantcifeatures.npy')\n",
    "print('Loaded test semantic features')\n",
    "\n",
    "train_labels = np.load(r'FeatureFiles/train_labels.npy')\n",
    "print('Loaded train labels')\n",
    "test_labels = np.load(r'FeatureFiles/test_labels.npy')\n",
    "print('Loaded test labels')"
   ]
  },
  {
   "cell_type": "code",
   "execution_count": null,
   "id": "a3b3aa29",
   "metadata": {},
   "outputs": [],
   "source": [
    "#taking GAP of CNN features\n",
    "train_CNNfeatures_GAP = tf.keras.layers.GlobalAveragePooling2D()(train_CNNfeatures)\n",
    "test_CNNfeatures_GAP = tf.keras.layers.GlobalAveragePooling2D()(test_CNNfeatures)"
   ]
  },
  {
   "cell_type": "code",
   "execution_count": 1,
   "id": "0c7c4f62",
   "metadata": {},
   "outputs": [
    {
     "ename": "NameError",
     "evalue": "name 'tf' is not defined",
     "output_type": "error",
     "traceback": [
      "\u001b[0;31m---------------------------------------------------------------------------\u001b[0m",
      "\u001b[0;31mNameError\u001b[0m                                 Traceback (most recent call last)",
      "Input \u001b[0;32mIn [1]\u001b[0m, in \u001b[0;36m<cell line: 1>\u001b[0;34m()\u001b[0m\n\u001b[0;32m----> 1\u001b[0m train_features \u001b[38;5;241m=\u001b[39m \u001b[43mtf\u001b[49m\u001b[38;5;241m.\u001b[39mconcat([train_semantic, train_mainobject, train_CNNfeatures_GAP, train_lowfeatures], axis\u001b[38;5;241m=\u001b[39m\u001b[38;5;241m1\u001b[39m)\n\u001b[1;32m      2\u001b[0m test_features \u001b[38;5;241m=\u001b[39m tf\u001b[38;5;241m.\u001b[39mconcat([test_semantic, test_mainobject, test_CNNfeatures_GAP, test_lowfeatures], axis\u001b[38;5;241m=\u001b[39m\u001b[38;5;241m1\u001b[39m)\n",
      "\u001b[0;31mNameError\u001b[0m: name 'tf' is not defined"
     ]
    }
   ],
   "source": [
    "#Concatinating all domain-respective features\n",
    "train_features = tf.concat([train_semantic, train_mainobject, train_CNNfeatures_GAP, train_lowfeatures], axis=1)\n",
    "test_features = tf.concat([test_semantic, test_mainobject, test_CNNfeatures_GAP, test_lowfeatures], axis=1)"
   ]
  },
  {
   "cell_type": "code",
   "execution_count": 5,
   "id": "b8c14807",
   "metadata": {},
   "outputs": [],
   "source": [
    "def classifier(inputs):\n",
    "#     x = tf.keras.layers.Dense(1500, activation='relu', \n",
    "#                               kernel_regularizer= tf.keras.regularizers.l2(0.001))(features)\n",
    "#     x = tf.keras.layers.Dense(500, activation='relu', \n",
    "#                               kernel_regularizer= tf.keras.regularizers.l2(0.01))(x)\n",
    "#     x = tf.keras.layers.Dense(100, activation='relu', \n",
    "#                               kernel_regularizer= tf.keras.regularizers.l2(0.01))(x)\n",
    "    x = tf.keras.layers.Dense(NUM_CLASSES, activation='softmax', \n",
    "                              #kernel_regularizer= tf.keras.regularizers.l2(0.01),\n",
    "                              name='classification')(x)\n",
    "    \n",
    "    return x\n",
    "        \n",
    "def final_model(inputs):\n",
    "    classification_output = classifier(inputs)\n",
    "    \n",
    "    return classification_output\n",
    "\n",
    "def define_compile_model():\n",
    "    \n",
    "    inputs = tf.keras.layers.Input(shape=(2189,))\n",
    "    classification_output = final_model(inputs) \n",
    "    model = tf.keras.Model(inputs= inputs, outputs= classification_output)\n",
    "    model.compile(optimizer=tf.keras.optimizers.SGD(0.001), \n",
    "                loss='categorical_crossentropy',\n",
    "                metrics = ['accuracy'])\n",
    "  \n",
    "    return model"
   ]
  },
  {
   "cell_type": "code",
   "execution_count": 7,
   "id": "9ed34e1e",
   "metadata": {
    "scrolled": true
   },
   "outputs": [],
   "source": [
    "model = define_compile_model()\n",
    "\n",
    "model.summary()"
   ]
  },
  {
   "cell_type": "code",
   "execution_count": 8,
   "id": "2b2bf28b",
   "metadata": {},
   "outputs": [
    {
     "data": {
      "image/png": "[encoded data removed]",
      "text/plain": [
       "<IPython.core.display.Image object>"
      ]
     },
     "execution_count": 8,
     "metadata": {},
     "output_type": "execute_result"
    }
   ],
   "source": [
    "#for plotting model\n",
    "import keras.utils.vis_utils\n",
    "from importlib import reload\n",
    "reload(keras.utils.vis_utils)\n",
    "\n",
    "\n",
    "from keras.utils.vis_utils import plot_model    \n",
    "plot_model(model, to_file='model_i1.png', show_shapes=True, show_layer_names=True)"
   ]
  },
  {
   "cell_type": "code",
   "execution_count": 9,
   "id": "2a592f7d",
   "metadata": {},
   "outputs": [],
   "source": [
    "checkpoint = ModelCheckpoint('MobileNet_CNN+Sem+LF+MainObject-{epoch:03d}-{accuracy:03f}-{val_accuracy:03f}.h5', verbose=1, \n",
    "                        monitor='val_accuracy',save_best_only=True, mode='auto') \n",
    "#earlystopping = tf.keras.callbacks.EarlyStopping(monitor='val_accuracy', mode='auto')"
   ]
  },
  {
   "cell_type": "code",
   "execution_count": 10,
   "id": "6385dc04",
   "metadata": {
    "scrolled": true
   },
   "outputs": [
    {
     "name": "stdout",
     "output_type": "stream",
     "text": [
      "Epoch 1/200\n",
      "WARNING:tensorflow:Gradients do not exist for variables ['dense_1/kernel:0', 'dense_1/bias:0'] when minimizing the loss. If you're using `model.compile()`, did you forget to provide a `loss`argument?\n",
      "WARNING:tensorflow:Gradients do not exist for variables ['dense_1/kernel:0', 'dense_1/bias:0'] when minimizing the loss. If you're using `model.compile()`, did you forget to provide a `loss`argument?\n",
      "145/145 [==============================] - ETA: 0s - loss: 20.7189 - accuracy: 0.1944\n",
      "Epoch 1: accuracy improved from -inf to 0.19441, saving model to Idea1_1_MobileNet-001-0.194407.h5\n",
      "145/145 [==============================] - 336s 2s/step - loss: 20.7189 - accuracy: 0.1944\n",
      "Epoch 2/200\n",
      "145/145 [==============================] - ETA: 0s - loss: 12.6889 - accuracy: 0.2962\n",
      "Epoch 2: accuracy improved from 0.19441 to 0.29624, saving model to Idea1_1_MobileNet-002-0.296244.h5\n",
      "145/145 [==============================] - 332s 2s/step - loss: 12.6889 - accuracy: 0.2962\n",
      "Epoch 3/200\n",
      "145/145 [==============================] - ETA: 0s - loss: 9.4166 - accuracy: 0.3543\n",
      "Epoch 3: accuracy improved from 0.29624 to 0.35428, saving model to Idea1_1_MobileNet-003-0.354276.h5\n",
      "145/145 [==============================] - 332s 2s/step - loss: 9.4166 - accuracy: 0.3543\n",
      "Epoch 4/200\n",
      "145/145 [==============================] - ETA: 0s - loss: 7.3618 - accuracy: 0.4049\n",
      "Epoch 4: accuracy improved from 0.35428 to 0.40487, saving model to Idea1_1_MobileNet-004-0.404871.h5\n",
      "145/145 [==============================] - 331s 2s/step - loss: 7.3618 - accuracy: 0.4049\n",
      "Epoch 5/200\n",
      "145/145 [==============================] - ETA: 0s - loss: 6.0590 - accuracy: 0.4390\n",
      "Epoch 5: accuracy improved from 0.40487 to 0.43898, saving model to Idea1_1_MobileNet-005-0.438978.h5\n",
      "145/145 [==============================] - 317s 2s/step - loss: 6.0590 - accuracy: 0.4390\n",
      "Epoch 6/200\n",
      "145/145 [==============================] - ETA: 0s - loss: 6.1375 - accuracy: 0.4385\n",
      "Epoch 6: accuracy did not improve from 0.43898\n",
      "145/145 [==============================] - 318s 2s/step - loss: 6.1375 - accuracy: 0.4385\n",
      "Epoch 7/200\n",
      "145/145 [==============================] - ETA: 0s - loss: 5.4366 - accuracy: 0.4647\n",
      "Epoch 7: accuracy improved from 0.43898 to 0.46473, saving model to Idea1_1_MobileNet-007-0.464734.h5\n",
      "145/145 [==============================] - 315s 2s/step - loss: 5.4366 - accuracy: 0.4647\n",
      "Epoch 8/200\n",
      "145/145 [==============================] - ETA: 0s - loss: 4.9841 - accuracy: 0.4950\n",
      "Epoch 8: accuracy improved from 0.46473 to 0.49496, saving model to Idea1_1_MobileNet-008-0.494962.h5\n",
      "145/145 [==============================] - 332s 2s/step - loss: 4.9841 - accuracy: 0.4950\n",
      "Epoch 9/200\n",
      "145/145 [==============================] - ETA: 0s - loss: 4.5278 - accuracy: 0.5034\n",
      "Epoch 9: accuracy improved from 0.49496 to 0.50337, saving model to Idea1_1_MobileNet-009-0.503368.h5\n",
      "145/145 [==============================] - 334s 2s/step - loss: 4.5278 - accuracy: 0.5034\n",
      "Epoch 10/200\n",
      "145/145 [==============================] - ETA: 0s - loss: 4.6825 - accuracy: 0.5055\n",
      "Epoch 10: accuracy improved from 0.50337 to 0.50552, saving model to Idea1_1_MobileNet-010-0.505523.h5\n",
      "145/145 [==============================] - 335s 2s/step - loss: 4.6825 - accuracy: 0.5055\n",
      "Epoch 11/200\n",
      "145/145 [==============================] - ETA: 0s - loss: 4.2113 - accuracy: 0.5255\n",
      "Epoch 11: accuracy improved from 0.50552 to 0.52551, saving model to Idea1_1_MobileNet-011-0.525513.h5\n",
      "145/145 [==============================] - 335s 2s/step - loss: 4.2113 - accuracy: 0.5255\n",
      "Epoch 12/200\n",
      "145/145 [==============================] - ETA: 0s - loss: 3.8951 - accuracy: 0.5402\n",
      "Epoch 12: accuracy improved from 0.52551 to 0.54017, saving model to Idea1_1_MobileNet-012-0.540169.h5\n",
      "145/145 [==============================] - 335s 2s/step - loss: 3.8951 - accuracy: 0.5402\n",
      "Epoch 13/200\n",
      "145/145 [==============================] - ETA: 0s - loss: 3.8859 - accuracy: 0.5465\n",
      "Epoch 13: accuracy improved from 0.54017 to 0.54653, saving model to Idea1_1_MobileNet-013-0.546527.h5\n",
      "145/145 [==============================] - 334s 2s/step - loss: 3.8859 - accuracy: 0.5465\n",
      "Epoch 14/200\n",
      "145/145 [==============================] - ETA: 0s - loss: 3.7386 - accuracy: 0.5561\n",
      "Epoch 14: accuracy improved from 0.54653 to 0.55606, saving model to Idea1_1_MobileNet-014-0.556064.h5\n",
      "145/145 [==============================] - 335s 2s/step - loss: 3.7386 - accuracy: 0.5561\n",
      "Epoch 15/200\n",
      "145/145 [==============================] - ETA: 0s - loss: 3.7001 - accuracy: 0.5552\n",
      "Epoch 15: accuracy did not improve from 0.55606\n",
      "145/145 [==============================] - 333s 2s/step - loss: 3.7001 - accuracy: 0.5552\n",
      "Epoch 16/200\n",
      "145/145 [==============================] - ETA: 0s - loss: 3.6144 - accuracy: 0.5632\n",
      "Epoch 16: accuracy improved from 0.55606 to 0.56318, saving model to Idea1_1_MobileNet-016-0.563177.h5\n",
      "145/145 [==============================] - 334s 2s/step - loss: 3.6144 - accuracy: 0.5632\n",
      "Epoch 17/200\n",
      "145/145 [==============================] - ETA: 0s - loss: 3.6885 - accuracy: 0.5610\n",
      "Epoch 17: accuracy did not improve from 0.56318\n",
      "145/145 [==============================] - 335s 2s/step - loss: 3.6885 - accuracy: 0.5610\n",
      "Epoch 18/200\n",
      "145/145 [==============================] - ETA: 0s - loss: 3.1738 - accuracy: 0.5842\n",
      "Epoch 18: accuracy improved from 0.56318 to 0.58419, saving model to Idea1_1_MobileNet-018-0.584191.h5\n",
      "145/145 [==============================] - 335s 2s/step - loss: 3.1738 - accuracy: 0.5842\n",
      "Epoch 19/200\n",
      "145/145 [==============================] - ETA: 0s - loss: 3.1199 - accuracy: 0.5979\n",
      "Epoch 19: accuracy improved from 0.58419 to 0.59788, saving model to Idea1_1_MobileNet-019-0.597877.h5\n",
      "145/145 [==============================] - 335s 2s/step - loss: 3.1199 - accuracy: 0.5979\n",
      "Epoch 20/200\n",
      "145/145 [==============================] - ETA: 0s - loss: 2.8265 - accuracy: 0.6086\n",
      "Epoch 20: accuracy improved from 0.59788 to 0.60860, saving model to Idea1_1_MobileNet-020-0.608600.h5\n",
      "145/145 [==============================] - 334s 2s/step - loss: 2.8265 - accuracy: 0.6086\n",
      "Epoch 21/200\n",
      "145/145 [==============================] - ETA: 0s - loss: 3.1163 - accuracy: 0.5941\n",
      "Epoch 21: accuracy did not improve from 0.60860\n",
      "145/145 [==============================] - 334s 2s/step - loss: 3.1163 - accuracy: 0.5941\n",
      "Epoch 22/200\n",
      "145/145 [==============================] - ETA: 0s - loss: 2.9257 - accuracy: 0.6115\n",
      "Epoch 22: accuracy improved from 0.60860 to 0.61151, saving model to Idea1_1_MobileNet-022-0.611509.h5\n",
      "145/145 [==============================] - 335s 2s/step - loss: 2.9257 - accuracy: 0.6115\n",
      "Epoch 23/200\n",
      "145/145 [==============================] - ETA: 0s - loss: 2.5666 - accuracy: 0.6321\n",
      "Epoch 23: accuracy improved from 0.61151 to 0.63215, saving model to Idea1_1_MobileNet-023-0.632146.h5\n",
      "145/145 [==============================] - 334s 2s/step - loss: 2.5666 - accuracy: 0.6321\n",
      "Epoch 24/200\n",
      "145/145 [==============================] - ETA: 0s - loss: 2.6499 - accuracy: 0.6275\n",
      "Epoch 24: accuracy did not improve from 0.63215\n",
      "145/145 [==============================] - 333s 2s/step - loss: 2.6499 - accuracy: 0.6275\n",
      "Epoch 25/200\n",
      "145/145 [==============================] - ETA: 0s - loss: 2.4154 - accuracy: 0.6454\n",
      "Epoch 25: accuracy improved from 0.63215 to 0.64540, saving model to Idea1_1_MobileNet-025-0.645401.h5\n",
      "145/145 [==============================] - 335s 2s/step - loss: 2.4154 - accuracy: 0.6454\n",
      "Epoch 26/200\n",
      "145/145 [==============================] - ETA: 0s - loss: 2.4291 - accuracy: 0.6418\n",
      "Epoch 26: accuracy did not improve from 0.64540\n",
      "145/145 [==============================] - 335s 2s/step - loss: 2.4291 - accuracy: 0.6418\n",
      "Epoch 27/200\n",
      "145/145 [==============================] - ETA: 0s - loss: 2.3616 - accuracy: 0.6543\n",
      "Epoch 27: accuracy improved from 0.64540 to 0.65429, saving model to Idea1_1_MobileNet-027-0.654292.h5\n",
      "145/145 [==============================] - 335s 2s/step - loss: 2.3616 - accuracy: 0.6543\n",
      "Epoch 28/200\n",
      "145/145 [==============================] - ETA: 0s - loss: 2.1223 - accuracy: 0.6714\n",
      "Epoch 28: accuracy improved from 0.65429 to 0.67137, saving model to Idea1_1_MobileNet-028-0.671372.h5\n",
      "145/145 [==============================] - 335s 2s/step - loss: 2.1223 - accuracy: 0.6714\n",
      "Epoch 29/200\n",
      "145/145 [==============================] - ETA: 0s - loss: 2.1518 - accuracy: 0.6699\n",
      "Epoch 29: accuracy did not improve from 0.67137\n",
      "145/145 [==============================] - 335s 2s/step - loss: 2.1518 - accuracy: 0.6699\n",
      "Epoch 30/200\n",
      "145/145 [==============================] - ETA: 0s - loss: 1.9037 - accuracy: 0.6865\n",
      "Epoch 30: accuracy improved from 0.67137 to 0.68646, saving model to Idea1_1_MobileNet-030-0.686459.h5\n",
      "145/145 [==============================] - 333s 2s/step - loss: 1.9037 - accuracy: 0.6865\n",
      "Epoch 31/200\n",
      " 40/145 [=======>......................] - ETA: 3:59 - loss: 1.9520 - accuracy: 0.6807"
     ]
    },
    {
     "ename": "KeyboardInterrupt",
     "evalue": "",
     "output_type": "error",
     "traceback": [
      "\u001b[0;31m---------------------------------------------------------------------------\u001b[0m",
      "\u001b[0;31mKeyboardInterrupt\u001b[0m                         Traceback (most recent call last)",
      "Input \u001b[0;32mIn [10]\u001b[0m, in \u001b[0;36m<cell line: 1>\u001b[0;34m()\u001b[0m\n\u001b[0;32m----> 1\u001b[0m \u001b[43mmodel\u001b[49m\u001b[38;5;241;43m.\u001b[39;49m\u001b[43mfit\u001b[49m\u001b[43m(\u001b[49m\u001b[43m(\u001b[49m\u001b[43mtrain_objectdetails\u001b[49m\u001b[43m,\u001b[49m\u001b[43mtrain_image_data\u001b[49m\u001b[43m,\u001b[49m\u001b[43mtrain_lowfeatures\u001b[49m\u001b[43m)\u001b[49m\u001b[43m,\u001b[49m\u001b[43m \u001b[49m\u001b[43mtrain_labels\u001b[49m\u001b[43m,\u001b[49m\n\u001b[1;32m      2\u001b[0m \u001b[43m        \u001b[49m\u001b[43mbatch_size\u001b[49m\u001b[43m \u001b[49m\u001b[38;5;241;43m=\u001b[39;49m\u001b[43m \u001b[49m\u001b[43mBATCH_SIZE\u001b[49m\u001b[43m,\u001b[49m\n\u001b[1;32m      3\u001b[0m \u001b[43m        \u001b[49m\u001b[43mepochs\u001b[49m\u001b[38;5;241;43m=\u001b[39;49m\u001b[43m \u001b[49m\u001b[38;5;241;43m200\u001b[39;49m\u001b[43m,\u001b[49m\u001b[43m \u001b[49m\n\u001b[1;32m      4\u001b[0m \u001b[43m        \u001b[49m\u001b[43mcallbacks\u001b[49m\u001b[38;5;241;43m=\u001b[39;49m\u001b[43m \u001b[49m\u001b[43m[\u001b[49m\u001b[43mcheckpoint\u001b[49m\u001b[43m]\u001b[49m\n\u001b[1;32m      5\u001b[0m \u001b[43m        \u001b[49m\u001b[43m)\u001b[49m\n",
      "File \u001b[0;32m~/.local/lib/python3.8/site-packages/keras/utils/traceback_utils.py:64\u001b[0m, in \u001b[0;36mfilter_traceback.<locals>.error_handler\u001b[0;34m(*args, **kwargs)\u001b[0m\n\u001b[1;32m     62\u001b[0m filtered_tb \u001b[38;5;241m=\u001b[39m \u001b[38;5;28;01mNone\u001b[39;00m\n\u001b[1;32m     63\u001b[0m \u001b[38;5;28;01mtry\u001b[39;00m:\n\u001b[0;32m---> 64\u001b[0m   \u001b[38;5;28;01mreturn\u001b[39;00m \u001b[43mfn\u001b[49m\u001b[43m(\u001b[49m\u001b[38;5;241;43m*\u001b[39;49m\u001b[43margs\u001b[49m\u001b[43m,\u001b[49m\u001b[43m \u001b[49m\u001b[38;5;241;43m*\u001b[39;49m\u001b[38;5;241;43m*\u001b[39;49m\u001b[43mkwargs\u001b[49m\u001b[43m)\u001b[49m\n\u001b[1;32m     65\u001b[0m \u001b[38;5;28;01mexcept\u001b[39;00m \u001b[38;5;167;01mException\u001b[39;00m \u001b[38;5;28;01mas\u001b[39;00m e:  \u001b[38;5;66;03m# pylint: disable=broad-except\u001b[39;00m\n\u001b[1;32m     66\u001b[0m   filtered_tb \u001b[38;5;241m=\u001b[39m _process_traceback_frames(e\u001b[38;5;241m.\u001b[39m__traceback__)\n",
      "File \u001b[0;32m~/.local/lib/python3.8/site-packages/keras/engine/training.py:1409\u001b[0m, in \u001b[0;36mModel.fit\u001b[0;34m(self, x, y, batch_size, epochs, verbose, callbacks, validation_split, validation_data, shuffle, class_weight, sample_weight, initial_epoch, steps_per_epoch, validation_steps, validation_batch_size, validation_freq, max_queue_size, workers, use_multiprocessing)\u001b[0m\n\u001b[1;32m   1402\u001b[0m \u001b[38;5;28;01mwith\u001b[39;00m tf\u001b[38;5;241m.\u001b[39mprofiler\u001b[38;5;241m.\u001b[39mexperimental\u001b[38;5;241m.\u001b[39mTrace(\n\u001b[1;32m   1403\u001b[0m     \u001b[38;5;124m'\u001b[39m\u001b[38;5;124mtrain\u001b[39m\u001b[38;5;124m'\u001b[39m,\n\u001b[1;32m   1404\u001b[0m     epoch_num\u001b[38;5;241m=\u001b[39mepoch,\n\u001b[1;32m   1405\u001b[0m     step_num\u001b[38;5;241m=\u001b[39mstep,\n\u001b[1;32m   1406\u001b[0m     batch_size\u001b[38;5;241m=\u001b[39mbatch_size,\n\u001b[1;32m   1407\u001b[0m     _r\u001b[38;5;241m=\u001b[39m\u001b[38;5;241m1\u001b[39m):\n\u001b[1;32m   1408\u001b[0m   callbacks\u001b[38;5;241m.\u001b[39mon_train_batch_begin(step)\n\u001b[0;32m-> 1409\u001b[0m   tmp_logs \u001b[38;5;241m=\u001b[39m \u001b[38;5;28;43mself\u001b[39;49m\u001b[38;5;241;43m.\u001b[39;49m\u001b[43mtrain_function\u001b[49m\u001b[43m(\u001b[49m\u001b[43miterator\u001b[49m\u001b[43m)\u001b[49m\n\u001b[1;32m   1410\u001b[0m   \u001b[38;5;28;01mif\u001b[39;00m data_handler\u001b[38;5;241m.\u001b[39mshould_sync:\n\u001b[1;32m   1411\u001b[0m     context\u001b[38;5;241m.\u001b[39masync_wait()\n",
      "File \u001b[0;32m~/.local/lib/python3.8/site-packages/tensorflow/python/util/traceback_utils.py:150\u001b[0m, in \u001b[0;36mfilter_traceback.<locals>.error_handler\u001b[0;34m(*args, **kwargs)\u001b[0m\n\u001b[1;32m    148\u001b[0m filtered_tb \u001b[38;5;241m=\u001b[39m \u001b[38;5;28;01mNone\u001b[39;00m\n\u001b[1;32m    149\u001b[0m \u001b[38;5;28;01mtry\u001b[39;00m:\n\u001b[0;32m--> 150\u001b[0m   \u001b[38;5;28;01mreturn\u001b[39;00m \u001b[43mfn\u001b[49m\u001b[43m(\u001b[49m\u001b[38;5;241;43m*\u001b[39;49m\u001b[43margs\u001b[49m\u001b[43m,\u001b[49m\u001b[43m \u001b[49m\u001b[38;5;241;43m*\u001b[39;49m\u001b[38;5;241;43m*\u001b[39;49m\u001b[43mkwargs\u001b[49m\u001b[43m)\u001b[49m\n\u001b[1;32m    151\u001b[0m \u001b[38;5;28;01mexcept\u001b[39;00m \u001b[38;5;167;01mException\u001b[39;00m \u001b[38;5;28;01mas\u001b[39;00m e:\n\u001b[1;32m    152\u001b[0m   filtered_tb \u001b[38;5;241m=\u001b[39m _process_traceback_frames(e\u001b[38;5;241m.\u001b[39m__traceback__)\n",
      "File \u001b[0;32m~/.local/lib/python3.8/site-packages/tensorflow/python/eager/def_function.py:915\u001b[0m, in \u001b[0;36mFunction.__call__\u001b[0;34m(self, *args, **kwds)\u001b[0m\n\u001b[1;32m    912\u001b[0m compiler \u001b[38;5;241m=\u001b[39m \u001b[38;5;124m\"\u001b[39m\u001b[38;5;124mxla\u001b[39m\u001b[38;5;124m\"\u001b[39m \u001b[38;5;28;01mif\u001b[39;00m \u001b[38;5;28mself\u001b[39m\u001b[38;5;241m.\u001b[39m_jit_compile \u001b[38;5;28;01melse\u001b[39;00m \u001b[38;5;124m\"\u001b[39m\u001b[38;5;124mnonXla\u001b[39m\u001b[38;5;124m\"\u001b[39m\n\u001b[1;32m    914\u001b[0m \u001b[38;5;28;01mwith\u001b[39;00m OptionalXlaContext(\u001b[38;5;28mself\u001b[39m\u001b[38;5;241m.\u001b[39m_jit_compile):\n\u001b[0;32m--> 915\u001b[0m   result \u001b[38;5;241m=\u001b[39m \u001b[38;5;28;43mself\u001b[39;49m\u001b[38;5;241;43m.\u001b[39;49m\u001b[43m_call\u001b[49m\u001b[43m(\u001b[49m\u001b[38;5;241;43m*\u001b[39;49m\u001b[43margs\u001b[49m\u001b[43m,\u001b[49m\u001b[43m \u001b[49m\u001b[38;5;241;43m*\u001b[39;49m\u001b[38;5;241;43m*\u001b[39;49m\u001b[43mkwds\u001b[49m\u001b[43m)\u001b[49m\n\u001b[1;32m    917\u001b[0m new_tracing_count \u001b[38;5;241m=\u001b[39m \u001b[38;5;28mself\u001b[39m\u001b[38;5;241m.\u001b[39mexperimental_get_tracing_count()\n\u001b[1;32m    918\u001b[0m without_tracing \u001b[38;5;241m=\u001b[39m (tracing_count \u001b[38;5;241m==\u001b[39m new_tracing_count)\n",
      "File \u001b[0;32m~/.local/lib/python3.8/site-packages/tensorflow/python/eager/def_function.py:947\u001b[0m, in \u001b[0;36mFunction._call\u001b[0;34m(self, *args, **kwds)\u001b[0m\n\u001b[1;32m    944\u001b[0m   \u001b[38;5;28mself\u001b[39m\u001b[38;5;241m.\u001b[39m_lock\u001b[38;5;241m.\u001b[39mrelease()\n\u001b[1;32m    945\u001b[0m   \u001b[38;5;66;03m# In this case we have created variables on the first call, so we run the\u001b[39;00m\n\u001b[1;32m    946\u001b[0m   \u001b[38;5;66;03m# defunned version which is guaranteed to never create variables.\u001b[39;00m\n\u001b[0;32m--> 947\u001b[0m   \u001b[38;5;28;01mreturn\u001b[39;00m \u001b[38;5;28;43mself\u001b[39;49m\u001b[38;5;241;43m.\u001b[39;49m\u001b[43m_stateless_fn\u001b[49m\u001b[43m(\u001b[49m\u001b[38;5;241;43m*\u001b[39;49m\u001b[43margs\u001b[49m\u001b[43m,\u001b[49m\u001b[43m \u001b[49m\u001b[38;5;241;43m*\u001b[39;49m\u001b[38;5;241;43m*\u001b[39;49m\u001b[43mkwds\u001b[49m\u001b[43m)\u001b[49m  \u001b[38;5;66;03m# pylint: disable=not-callable\u001b[39;00m\n\u001b[1;32m    948\u001b[0m \u001b[38;5;28;01melif\u001b[39;00m \u001b[38;5;28mself\u001b[39m\u001b[38;5;241m.\u001b[39m_stateful_fn \u001b[38;5;129;01mis\u001b[39;00m \u001b[38;5;129;01mnot\u001b[39;00m \u001b[38;5;28;01mNone\u001b[39;00m:\n\u001b[1;32m    949\u001b[0m   \u001b[38;5;66;03m# Release the lock early so that multiple threads can perform the call\u001b[39;00m\n\u001b[1;32m    950\u001b[0m   \u001b[38;5;66;03m# in parallel.\u001b[39;00m\n\u001b[1;32m    951\u001b[0m   \u001b[38;5;28mself\u001b[39m\u001b[38;5;241m.\u001b[39m_lock\u001b[38;5;241m.\u001b[39mrelease()\n",
      "File \u001b[0;32m~/.local/lib/python3.8/site-packages/tensorflow/python/eager/function.py:2453\u001b[0m, in \u001b[0;36mFunction.__call__\u001b[0;34m(self, *args, **kwargs)\u001b[0m\n\u001b[1;32m   2450\u001b[0m \u001b[38;5;28;01mwith\u001b[39;00m \u001b[38;5;28mself\u001b[39m\u001b[38;5;241m.\u001b[39m_lock:\n\u001b[1;32m   2451\u001b[0m   (graph_function,\n\u001b[1;32m   2452\u001b[0m    filtered_flat_args) \u001b[38;5;241m=\u001b[39m \u001b[38;5;28mself\u001b[39m\u001b[38;5;241m.\u001b[39m_maybe_define_function(args, kwargs)\n\u001b[0;32m-> 2453\u001b[0m \u001b[38;5;28;01mreturn\u001b[39;00m \u001b[43mgraph_function\u001b[49m\u001b[38;5;241;43m.\u001b[39;49m\u001b[43m_call_flat\u001b[49m\u001b[43m(\u001b[49m\n\u001b[1;32m   2454\u001b[0m \u001b[43m    \u001b[49m\u001b[43mfiltered_flat_args\u001b[49m\u001b[43m,\u001b[49m\u001b[43m \u001b[49m\u001b[43mcaptured_inputs\u001b[49m\u001b[38;5;241;43m=\u001b[39;49m\u001b[43mgraph_function\u001b[49m\u001b[38;5;241;43m.\u001b[39;49m\u001b[43mcaptured_inputs\u001b[49m\u001b[43m)\u001b[49m\n",
      "File \u001b[0;32m~/.local/lib/python3.8/site-packages/tensorflow/python/eager/function.py:1860\u001b[0m, in \u001b[0;36mConcreteFunction._call_flat\u001b[0;34m(self, args, captured_inputs, cancellation_manager)\u001b[0m\n\u001b[1;32m   1856\u001b[0m possible_gradient_type \u001b[38;5;241m=\u001b[39m gradients_util\u001b[38;5;241m.\u001b[39mPossibleTapeGradientTypes(args)\n\u001b[1;32m   1857\u001b[0m \u001b[38;5;28;01mif\u001b[39;00m (possible_gradient_type \u001b[38;5;241m==\u001b[39m gradients_util\u001b[38;5;241m.\u001b[39mPOSSIBLE_GRADIENT_TYPES_NONE\n\u001b[1;32m   1858\u001b[0m     \u001b[38;5;129;01mand\u001b[39;00m executing_eagerly):\n\u001b[1;32m   1859\u001b[0m   \u001b[38;5;66;03m# No tape is watching; skip to running the function.\u001b[39;00m\n\u001b[0;32m-> 1860\u001b[0m   \u001b[38;5;28;01mreturn\u001b[39;00m \u001b[38;5;28mself\u001b[39m\u001b[38;5;241m.\u001b[39m_build_call_outputs(\u001b[38;5;28;43mself\u001b[39;49m\u001b[38;5;241;43m.\u001b[39;49m\u001b[43m_inference_function\u001b[49m\u001b[38;5;241;43m.\u001b[39;49m\u001b[43mcall\u001b[49m\u001b[43m(\u001b[49m\n\u001b[1;32m   1861\u001b[0m \u001b[43m      \u001b[49m\u001b[43mctx\u001b[49m\u001b[43m,\u001b[49m\u001b[43m \u001b[49m\u001b[43margs\u001b[49m\u001b[43m,\u001b[49m\u001b[43m \u001b[49m\u001b[43mcancellation_manager\u001b[49m\u001b[38;5;241;43m=\u001b[39;49m\u001b[43mcancellation_manager\u001b[49m\u001b[43m)\u001b[49m)\n\u001b[1;32m   1862\u001b[0m forward_backward \u001b[38;5;241m=\u001b[39m \u001b[38;5;28mself\u001b[39m\u001b[38;5;241m.\u001b[39m_select_forward_and_backward_functions(\n\u001b[1;32m   1863\u001b[0m     args,\n\u001b[1;32m   1864\u001b[0m     possible_gradient_type,\n\u001b[1;32m   1865\u001b[0m     executing_eagerly)\n\u001b[1;32m   1866\u001b[0m forward_function, args_with_tangents \u001b[38;5;241m=\u001b[39m forward_backward\u001b[38;5;241m.\u001b[39mforward()\n",
      "File \u001b[0;32m~/.local/lib/python3.8/site-packages/tensorflow/python/eager/function.py:497\u001b[0m, in \u001b[0;36m_EagerDefinedFunction.call\u001b[0;34m(self, ctx, args, cancellation_manager)\u001b[0m\n\u001b[1;32m    495\u001b[0m \u001b[38;5;28;01mwith\u001b[39;00m _InterpolateFunctionError(\u001b[38;5;28mself\u001b[39m):\n\u001b[1;32m    496\u001b[0m   \u001b[38;5;28;01mif\u001b[39;00m cancellation_manager \u001b[38;5;129;01mis\u001b[39;00m \u001b[38;5;28;01mNone\u001b[39;00m:\n\u001b[0;32m--> 497\u001b[0m     outputs \u001b[38;5;241m=\u001b[39m \u001b[43mexecute\u001b[49m\u001b[38;5;241;43m.\u001b[39;49m\u001b[43mexecute\u001b[49m\u001b[43m(\u001b[49m\n\u001b[1;32m    498\u001b[0m \u001b[43m        \u001b[49m\u001b[38;5;28;43mstr\u001b[39;49m\u001b[43m(\u001b[49m\u001b[38;5;28;43mself\u001b[39;49m\u001b[38;5;241;43m.\u001b[39;49m\u001b[43msignature\u001b[49m\u001b[38;5;241;43m.\u001b[39;49m\u001b[43mname\u001b[49m\u001b[43m)\u001b[49m\u001b[43m,\u001b[49m\n\u001b[1;32m    499\u001b[0m \u001b[43m        \u001b[49m\u001b[43mnum_outputs\u001b[49m\u001b[38;5;241;43m=\u001b[39;49m\u001b[38;5;28;43mself\u001b[39;49m\u001b[38;5;241;43m.\u001b[39;49m\u001b[43m_num_outputs\u001b[49m\u001b[43m,\u001b[49m\n\u001b[1;32m    500\u001b[0m \u001b[43m        \u001b[49m\u001b[43minputs\u001b[49m\u001b[38;5;241;43m=\u001b[39;49m\u001b[43margs\u001b[49m\u001b[43m,\u001b[49m\n\u001b[1;32m    501\u001b[0m \u001b[43m        \u001b[49m\u001b[43mattrs\u001b[49m\u001b[38;5;241;43m=\u001b[39;49m\u001b[43mattrs\u001b[49m\u001b[43m,\u001b[49m\n\u001b[1;32m    502\u001b[0m \u001b[43m        \u001b[49m\u001b[43mctx\u001b[49m\u001b[38;5;241;43m=\u001b[39;49m\u001b[43mctx\u001b[49m\u001b[43m)\u001b[49m\n\u001b[1;32m    503\u001b[0m   \u001b[38;5;28;01melse\u001b[39;00m:\n\u001b[1;32m    504\u001b[0m     outputs \u001b[38;5;241m=\u001b[39m execute\u001b[38;5;241m.\u001b[39mexecute_with_cancellation(\n\u001b[1;32m    505\u001b[0m         \u001b[38;5;28mstr\u001b[39m(\u001b[38;5;28mself\u001b[39m\u001b[38;5;241m.\u001b[39msignature\u001b[38;5;241m.\u001b[39mname),\n\u001b[1;32m    506\u001b[0m         num_outputs\u001b[38;5;241m=\u001b[39m\u001b[38;5;28mself\u001b[39m\u001b[38;5;241m.\u001b[39m_num_outputs,\n\u001b[0;32m   (...)\u001b[0m\n\u001b[1;32m    509\u001b[0m         ctx\u001b[38;5;241m=\u001b[39mctx,\n\u001b[1;32m    510\u001b[0m         cancellation_manager\u001b[38;5;241m=\u001b[39mcancellation_manager)\n",
      "File \u001b[0;32m~/.local/lib/python3.8/site-packages/tensorflow/python/eager/execute.py:54\u001b[0m, in \u001b[0;36mquick_execute\u001b[0;34m(op_name, num_outputs, inputs, attrs, ctx, name)\u001b[0m\n\u001b[1;32m     52\u001b[0m \u001b[38;5;28;01mtry\u001b[39;00m:\n\u001b[1;32m     53\u001b[0m   ctx\u001b[38;5;241m.\u001b[39mensure_initialized()\n\u001b[0;32m---> 54\u001b[0m   tensors \u001b[38;5;241m=\u001b[39m \u001b[43mpywrap_tfe\u001b[49m\u001b[38;5;241;43m.\u001b[39;49m\u001b[43mTFE_Py_Execute\u001b[49m\u001b[43m(\u001b[49m\u001b[43mctx\u001b[49m\u001b[38;5;241;43m.\u001b[39;49m\u001b[43m_handle\u001b[49m\u001b[43m,\u001b[49m\u001b[43m \u001b[49m\u001b[43mdevice_name\u001b[49m\u001b[43m,\u001b[49m\u001b[43m \u001b[49m\u001b[43mop_name\u001b[49m\u001b[43m,\u001b[49m\n\u001b[1;32m     55\u001b[0m \u001b[43m                                      \u001b[49m\u001b[43minputs\u001b[49m\u001b[43m,\u001b[49m\u001b[43m \u001b[49m\u001b[43mattrs\u001b[49m\u001b[43m,\u001b[49m\u001b[43m \u001b[49m\u001b[43mnum_outputs\u001b[49m\u001b[43m)\u001b[49m\n\u001b[1;32m     56\u001b[0m \u001b[38;5;28;01mexcept\u001b[39;00m core\u001b[38;5;241m.\u001b[39m_NotOkStatusException \u001b[38;5;28;01mas\u001b[39;00m e:\n\u001b[1;32m     57\u001b[0m   \u001b[38;5;28;01mif\u001b[39;00m name \u001b[38;5;129;01mis\u001b[39;00m \u001b[38;5;129;01mnot\u001b[39;00m \u001b[38;5;28;01mNone\u001b[39;00m:\n",
      "\u001b[0;31mKeyboardInterrupt\u001b[0m: "
     ]
    }
   ],
   "source": [
    "history = model.fit(train_features, train_labels,\n",
    "                    batch_size = BATCH_SIZE,\n",
    "                    epochs= 500,\n",
    "                    validation_data = (test_features, test_labels),\n",
    "                    validation_batch_size= BATH_SIZE,\n",
    "                    callbacks= [checkpoint]\n",
    "                    )\n",
    "\n",
    "history = pd.DataFrame(history.history)"
   ]
  }
 ],
 "metadata": {
  "kernelspec": {
   "display_name": "Python 3 (ipykernel)",
   "language": "python",
   "name": "python3"
  },
  "language_info": {
   "codemirror_mode": {
    "name": "ipython",
    "version": 3
   },
   "file_extension": ".py",
   "mimetype": "text/x-python",
   "name": "python",
   "nbconvert_exporter": "python",
   "pygments_lexer": "ipython3",
   "version": "3.8.10"
  }
 },
 "nbformat": 4,
 "nbformat_minor": 5
}
