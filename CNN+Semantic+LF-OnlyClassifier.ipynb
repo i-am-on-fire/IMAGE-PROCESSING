{
 "cells": [
  {
   "cell_type": "code",
   "execution_count": 2,
   "id": "48769a18",
   "metadata": {},
   "outputs": [],
   "source": [
    "import pandas as pd\n",
    "import numpy as np\n",
    "import matplotlib.pyplot as plt\n",
    "import seaborn as sns\n",
    "import plotly.express as px\n",
    "\n",
    "\n",
    "import tensorflow as tf\n",
    "from tensorflow.keras.preprocessing.image import ImageDataGenerator\n",
    "from tensorflow.keras.utils import to_categorical\n",
    "\n",
    "from sklearn.metrics import confusion_matrix , classification_report \n",
    "from sklearn.preprocessing import LabelBinarizer\n",
    "from sklearn.metrics import roc_curve, auc, roc_auc_score\n",
    "\n",
    "from IPython.display import clear_output\n",
    "import warnings\n",
    "warnings.filterwarnings('ignore')\n",
    "\n",
    "from keras.models import model_from_json\n",
    "import cv2, os\n",
    "from keras.layers import Flatten\n",
    "from keras.utils.vis_utils import plot_model\n",
    "from tensorflow.keras.callbacks import ModelCheckpoint"
   ]
  },
  {
   "cell_type": "code",
   "execution_count": 3,
   "id": "0c14ace4",
   "metadata": {},
   "outputs": [],
   "source": [
    "train_dir = r\"dataset/ImageEmotion (85-15)/train\"\n",
    "test_dir = r\"dataset/ImageEmotion (85-15)/test\"\n",
    "\n",
    "SEED = 12\n",
    "IMG_HEIGHT = 224\n",
    "IMG_WIDTH = 224\n",
    "BATCH_SIZE = 128\n",
    "momentum = 0.9\n",
    "EPOCHS = 500\n",
    "#FINE_TUNING_EPOCHS = 30\n",
    "LR = 0.001\n",
    "NUM_CLASSES = 8\n",
    "EARLY_STOPPING_CRITERIA=3\n",
    "CLASS_LABELS  = ['Amusement', 'Anger', 'Awe', 'Contentment', 'Disgust', 'Excitement', 'Fear', 'Sadness']\n",
    "CLASS_LABELS_EMOJIS = [\"🥳\", \"😡\", \"😯\", \"😌\", \"🤢\" ,\"🤩\", \"😱\" , \"😔\" ]"
   ]
  },
  {
   "cell_type": "code",
   "execution_count": 40,
   "id": "88c44647",
   "metadata": {},
   "outputs": [
    {
     "name": "stdout",
     "output_type": "stream",
     "text": [
      "Loaded train CNN features\n",
      "Loaded test CNN features\n",
      "Loaded train low features\n",
      "Loaded test low features\n",
      "Loaded train semantic features\n",
      "Loaded test semantic features\n",
      "Loaded train mainobject data\n",
      "Loaded test main object data\n",
      "Loaded train labels\n",
      "Loaded test labels\n"
     ]
    }
   ],
   "source": [
    "#loading features required\n",
    "train_CNNfeatures = np.load(r'FeatureFiles/MobileNetV2_train_CNNfeatures.npy', mmap_mode='r')\n",
    "print('Loaded train CNN features')\n",
    "test_CNNfeatures = np.load(r'FeatureFiles/MobileNetV2_test_CNNfeatures.npy', mmap_mode='r')\n",
    "print('Loaded test CNN features')\n",
    "train_lowfeatures = np.load(r'FeatureFiles/train_lowfeatures.npy')\n",
    "print('Loaded train low features')\n",
    "test_lowfeatures = np.load(r'FeatureFiles/test_lowfeatures.npy')\n",
    "print('Loaded test low features')\n",
    "train_semanticfeatures = np.load(r'FeatureFiles/train_semanticfeatures_normalized.npy')\n",
    "print('Loaded train semantic features')\n",
    "test_semanticfeatures = np.load(r'FeatureFiles/test_semanticfeatures_normalized.npy')\n",
    "print('Loaded test semantic features')\n",
    "train_mainobject = np.load(r'FeatureFiles/MobileNetV2_train_MainObject_data.npy')\n",
    "print('Loaded train mainobject data')\n",
    "test_mainobject = np.load(r'FeatureFiles/MobileNetV2_test_MainObject_data.npy')\n",
    "print('Loaded test main object data')\n",
    "\n",
    "train_labels = np.load(r'FeatureFiles/train_labels.npy')\n",
    "print('Loaded train labels')\n",
    "test_labels = np.load(r'FeatureFiles/test_labels.npy')\n",
    "print('Loaded test labels')"
   ]
  },
  {
   "cell_type": "code",
   "execution_count": 6,
   "id": "a3b3aa29",
   "metadata": {},
   "outputs": [
    {
     "name": "stderr",
     "output_type": "stream",
     "text": [
      "2022-08-02 15:49:18.200976: I tensorflow/stream_executor/cuda/cuda_gpu_executor.cc:975] successful NUMA node read from SysFS had negative value (-1), but there must be at least one NUMA node, so returning NUMA node zero\n",
      "2022-08-02 15:49:18.201163: I tensorflow/stream_executor/cuda/cuda_gpu_executor.cc:975] successful NUMA node read from SysFS had negative value (-1), but there must be at least one NUMA node, so returning NUMA node zero\n",
      "2022-08-02 15:49:18.220859: W tensorflow/stream_executor/platform/default/dso_loader.cc:64] Could not load dynamic library 'libcudnn.so.8'; dlerror: libcudnn.so.8: cannot open shared object file: No such file or directory; LD_LIBRARY_PATH: /home/stud1/.local/lib/python3.8/site-packages/cv2/../../lib64:\n",
      "2022-08-02 15:49:18.220868: W tensorflow/core/common_runtime/gpu/gpu_device.cc:1850] Cannot dlopen some GPU libraries. Please make sure the missing libraries mentioned above are installed properly if you would like to use GPU. Follow the guide at https://www.tensorflow.org/install/gpu for how to download and setup the required libraries for your platform.\n",
      "Skipping registering GPU devices...\n",
      "2022-08-02 15:49:18.221142: I tensorflow/core/platform/cpu_feature_guard.cc:193] This TensorFlow binary is optimized with oneAPI Deep Neural Network Library (oneDNN) to use the following CPU instructions in performance-critical operations:  AVX2 AVX512F AVX512_VNNI FMA\n",
      "To enable them in other operations, rebuild TensorFlow with the appropriate compiler flags.\n"
     ]
    }
   ],
   "source": [
    "#taking GAP of CNN features\n",
    "train_CNNfeatures_GAP = tf.keras.layers.GlobalAveragePooling2D()(train_CNNfeatures)\n",
    "test_CNNfeatures_GAP = tf.keras.layers.GlobalAveragePooling2D()(test_CNNfeatures)"
   ]
  },
  {
   "cell_type": "code",
   "execution_count": 9,
   "id": "529d2071",
   "metadata": {},
   "outputs": [
    {
     "name": "stdout",
     "output_type": "stream",
     "text": [
      "(18559, 1280)\n",
      "(3277, 1280)\n"
     ]
    }
   ],
   "source": [
    "print(train_CNNfeatures_GAP.shape)\n",
    "print(test_CNNfeatures_GAP.shape)"
   ]
  },
  {
   "cell_type": "code",
   "execution_count": 48,
   "id": "0c7c4f62",
   "metadata": {},
   "outputs": [],
   "source": [
    "#Concatinating all domain-respective features\n",
    "train_features = tf.concat([train_semanticfeatures, train_CNNfeatures_GAP, train_lowfeatures], axis=1)\n",
    "test_features = tf.concat([test_semanticfeatures, test_CNNfeatures_GAP, test_lowfeatures], axis=1)"
   ]
  },
  {
   "cell_type": "code",
   "execution_count": 49,
   "id": "268299c0",
   "metadata": {},
   "outputs": [
    {
     "name": "stdout",
     "output_type": "stream",
     "text": [
      "(18559, 1440)\n",
      "(3277, 1440)\n"
     ]
    }
   ],
   "source": [
    "print(train_features.shape)\n",
    "print(test_features.shape)"
   ]
  },
  {
   "cell_type": "code",
   "execution_count": 77,
   "id": "b8c14807",
   "metadata": {},
   "outputs": [],
   "source": [
    "def classifier(inputs):\n",
    "    #x = tf.keras.layers.Dense(3000, activation='relu', \n",
    "     #                         kernel_regularizer= tf.keras.regularizers.l2(0.001)\n",
    "     #                        )(inputs)\n",
    "    #x = tf.keras.layers.Dropout(0.5)(x)\n",
    "    #x = tf.keras.layers.BatchNormalization()(x)\n",
    "    x = tf.keras.layers.Dense(1500, activation='relu', \n",
    "                              kernel_regularizer= tf.keras.regularizers.l2(0.001)\n",
    "                             )(inputs)\n",
    "    #x = tf.keras.layers.Dense(1000, activation='relu', \n",
    "    #                          kernel_regularizer= tf.keras.regularizers.l2(0.001)\n",
    "    #                         )(inputs)\n",
    "    x = tf.keras.layers.Dense(1000, activation='relu', \n",
    "                              kernel_regularizer= tf.keras.regularizers.l2(0.001)\n",
    "                             )(x)\n",
    "    #x = tf.keras.layers.BatchNormalization()(x)\n",
    "    #x = tf.keras.layers.Dense(500, activation='relu', \n",
    "    #                          kernel_regularizer= tf.keras.regularizers.l2(0.001)\n",
    "    #                         )(x)\n",
    "    x = tf.keras.layers.Dense(100, activation='relu', \n",
    "                              kernel_regularizer= tf.keras.regularizers.l2(0.001)\n",
    "                             )(x)\n",
    "    #x = tf.keras.layers.BatchNormalization()(x)\n",
    "    x = tf.keras.layers.Dense(NUM_CLASSES, activation='softmax', \n",
    "                              #kernel_regularizer= tf.keras.regularizers.l2(0.01),\n",
    "                              name='classification')(x)\n",
    "    \n",
    "    return x\n",
    "        \n",
    "def final_model(inputs):\n",
    "    classification_output = classifier(inputs)\n",
    "    \n",
    "    return classification_output\n",
    "\n",
    "def define_compile_model():\n",
    "    \n",
    "    inputs = tf.keras.layers.Input(shape=(1440,))\n",
    "    classification_output = final_model(inputs) \n",
    "    model = tf.keras.Model(inputs= inputs, outputs= classification_output)\n",
    "    model.compile(optimizer=tf.keras.optimizers.Nadam(0.001), \n",
    "                loss='categorical_crossentropy',\n",
    "                metrics = ['accuracy'])\n",
    "  \n",
    "    return model"
   ]
  },
  {
   "cell_type": "code",
   "execution_count": 78,
   "id": "9ed34e1e",
   "metadata": {
    "scrolled": true
   },
   "outputs": [
    {
     "name": "stdout",
     "output_type": "stream",
     "text": [
      "Model: \"model_18\"\n",
      "_________________________________________________________________\n",
      " Layer (type)                Output Shape              Param #   \n",
      "=================================================================\n",
      " input_21 (InputLayer)       [(None, 1440)]            0         \n",
      "                                                                 \n",
      " dense_61 (Dense)            (None, 1500)              2161500   \n",
      "                                                                 \n",
      " dense_62 (Dense)            (None, 1000)              1501000   \n",
      "                                                                 \n",
      " dense_63 (Dense)            (None, 100)               100100    \n",
      "                                                                 \n",
      " classification (Dense)      (None, 8)                 808       \n",
      "                                                                 \n",
      "=================================================================\n",
      "Total params: 3,763,408\n",
      "Trainable params: 3,763,408\n",
      "Non-trainable params: 0\n",
      "_________________________________________________________________\n"
     ]
    }
   ],
   "source": [
    "model = define_compile_model()\n",
    "\n",
    "model.summary()"
   ]
  },
  {
   "cell_type": "code",
   "execution_count": 15,
   "id": "2b2bf28b",
   "metadata": {},
   "outputs": [
    {
     "data": {
      "image/png": "[encoded data removed]",
      "text/plain": [
       "<IPython.core.display.Image object>"
      ]
     },
     "execution_count": 15,
     "metadata": {},
     "output_type": "execute_result"
    }
   ],
   "source": [
    "#for plotting model\n",
    "import keras.utils.vis_utils\n",
    "from importlib import reload\n",
    "reload(keras.utils.vis_utils)\n",
    "\n",
    "\n",
    "from keras.utils.vis_utils import plot_model    \n",
    "plot_model(model, to_file='model_i1.png', show_shapes=True, show_layer_names=True)"
   ]
  },
  {
   "cell_type": "code",
   "execution_count": 52,
   "id": "2a592f7d",
   "metadata": {},
   "outputs": [],
   "source": [
    "checkpoint = ModelCheckpoint('MobileNetV2_CNN+Sem+LF-OnlyClassifier-{epoch:03d}-{accuracy:03f}-{val_accuracy:03f}.h5', verbose=1, \n",
    "                        monitor='val_accuracy',save_best_only=True, mode='auto') \n",
    "#earlystopping = tf.keras.callbacks.EarlyStopping(monitor='val_accuracy', mode='auto')"
   ]
  },
  {
   "cell_type": "code",
   "execution_count": null,
   "id": "6385dc04",
   "metadata": {
    "scrolled": false
   },
   "outputs": [
    {
     "name": "stdout",
     "output_type": "stream",
     "text": [
      "Epoch 1/500\n",
      " 57/145 [==========>...................] - ETA: 2s - loss: 3.5779 - accuracy: 0.5436"
     ]
    }
   ],
   "source": [
    "history = model.fit(train_features, train_labels,\n",
    "                    batch_size = BATCH_SIZE,\n",
    "                    epochs= 500,\n",
    "                    validation_data = (test_features, test_labels),\n",
    "                    validation_batch_size= BATCH_SIZE,\n",
    "                    #callbacks= [checkpoint]\n",
    "                    )\n",
    "\n",
    "history = pd.DataFrame(history.history)"
   ]
  }
 ],
 "metadata": {
  "kernelspec": {
   "display_name": "Python 3 (ipykernel)",
   "language": "python",
   "name": "python3"
  },
  "language_info": {
   "codemirror_mode": {
    "name": "ipython",
    "version": 3
   },
   "file_extension": ".py",
   "mimetype": "text/x-python",
   "name": "python",
   "nbconvert_exporter": "python",
   "pygments_lexer": "ipython3",
   "version": "3.8.10"
  }
 },
 "nbformat": 4,
 "nbformat_minor": 5
}
